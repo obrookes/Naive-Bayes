{
 "cells": [
  {
   "cell_type": "markdown",
   "metadata": {},
   "source": [
    "# Naive Bayes Example"
   ]
  },
  {
   "cell_type": "code",
   "execution_count": 3,
   "metadata": {},
   "outputs": [],
   "source": [
    "from nltk.corpus import inaugural\n",
    "from naive_bayes import Model, tokenize"
   ]
  },
  {
   "cell_type": "markdown",
   "metadata": {},
   "source": [
    "Generate the data set"
   ]
  },
  {
   "cell_type": "code",
   "execution_count": 9,
   "metadata": {
    "scrolled": true
   },
   "outputs": [
    {
     "name": "stdout",
     "output_type": "stream",
     "text": [
      "This is an example of a labelled data point: (['God', 'bless', 'America', '.'], 'Trump')\n"
     ]
    }
   ],
   "source": [
    "cls = ['Obama', 'Trump']\n",
    "obama_sentences = inaugural.sents('2009-Obama.txt')\n",
    "trump_sentences = inaugural.sents('2017-Trump.txt')\n",
    "labelled_obama = [(s, cls[0]) for s in obama_sentences]\n",
    "labelled_trump = [(s, cls[1]) for s in trump_sentences]\n",
    "labelled_data = labelled_obama + labelled_trump\n",
    "print(\"This is an example of a labelled data point: {}\".format(labelled_data[-1]))"
   ]
  },
  {
   "cell_type": "markdown",
   "metadata": {},
   "source": [
    "Initialize and train the model."
   ]
  },
  {
   "cell_type": "code",
   "execution_count": 10,
   "metadata": {},
   "outputs": [],
   "source": [
    "model = Model(labelled_data, cls)\n",
    "model.train()"
   ]
  },
  {
   "cell_type": "markdown",
   "metadata": {},
   "source": [
    "Log Priors"
   ]
  },
  {
   "cell_type": "code",
   "execution_count": 11,
   "metadata": {},
   "outputs": [
    {
     "name": "stdout",
     "output_type": "stream",
     "text": [
      "{'Obama': -0.8508565606941906, 'Trump': -1.16635838642212}\n"
     ]
    }
   ],
   "source": [
    "model.display_log_prior()"
   ]
  },
  {
   "cell_type": "markdown",
   "metadata": {},
   "source": [
    "Vocabulary (display first 10 words...)"
   ]
  },
  {
   "cell_type": "code",
   "execution_count": 12,
   "metadata": {},
   "outputs": [
    {
     "name": "stdout",
     "output_type": "stream",
     "text": [
      "['inventive', 'drawn', 'emanates', 'lives', 'broken', 'qualities', 'helps', 'forth', 'proclaim', 'body']\n"
     ]
    }
   ],
   "source": [
    "model.display_vocab(10)"
   ]
  },
  {
   "cell_type": "markdown",
   "metadata": {},
   "source": [
    "Words per class with repitition (i.e. words said by Trump or Obama)"
   ]
  },
  {
   "cell_type": "code",
   "execution_count": 13,
   "metadata": {},
   "outputs": [
    {
     "name": "stdout",
     "output_type": "stream",
     "text": [
      "Obama ['My', 'fellow', 'citizens', ':', 'I', 'stand', 'here', 'today', 'humbled', 'by']\n",
      "Trump ['Chief', 'Justice', 'Roberts', ',', 'President', 'Carter', ',', 'President', 'Clinton', ',']\n"
     ]
    }
   ],
   "source": [
    "model.display_big_doc(10)"
   ]
  },
  {
   "cell_type": "markdown",
   "metadata": {},
   "source": [
    "Calculate the log likelihoods for each class (i.e. probability of word given it was said by Trump/Obama)"
   ]
  },
  {
   "cell_type": "code",
   "execution_count": 15,
   "metadata": {},
   "outputs": [
    {
     "name": "stdout",
     "output_type": "stream",
     "text": [
      "Obama [('inventive', -10.96108788999733), ('drawn', -10.96108788999733), ('emanates', -10.96108788999733), ('lives', -11.961087889997332), ('broken', -10.96108788999733), ('qualities', -10.96108788999733), ('helps', -10.96108788999733), ('forth', -10.376125389276176), ('proclaim', -10.96108788999733), ('body', -11.961087889997332)]\n",
      "Trump [('inventive', -11.52845411076479), ('drawn', -11.52845411076479), ('emanates', -11.52845411076479), ('lives', -10.52845411076479), ('broken', -11.52845411076479), ('qualities', -11.52845411076479), ('helps', -11.52845411076479), ('forth', -11.52845411076479), ('proclaim', -11.52845411076479), ('body', -10.52845411076479)]\n"
     ]
    }
   ],
   "source": [
    "model.display_log_likelihood(10)"
   ]
  },
  {
   "cell_type": "markdown",
   "metadata": {},
   "source": [
    "Initialize some test documents:"
   ]
  },
  {
   "cell_type": "code",
   "execution_count": 28,
   "metadata": {},
   "outputs": [],
   "source": [
    "trump_test = [\n",
    "        'We', ',', 'the', 'citizens', 'of', 'America', ',', 'are', 'now',\n",
    "        'joined', 'in', 'a', 'great', 'national', 'effort', 'to',\n",
    "        'rebuild', 'our', 'country', 'and', 'restore', 'its', 'promise',\n",
    "        'for', 'all', 'of', 'our', 'people', '.'\n",
    "        ]\n",
    "\n",
    "obama_test = [\n",
    "        'I', 'stand', 'here', 'today', 'humbled', 'by', 'the',\n",
    "        'task', 'before', 'us', ',', 'grateful', 'for', 'the', 'trust',\n",
    "        'you', 'have', 'bestowed', ',', 'mindful', 'of', 'the',\n",
    "        'sacrifices', 'borne', 'by', 'our', 'ancestors', '.'\n",
    "        ]\n"
   ]
  },
  {
   "cell_type": "markdown",
   "metadata": {},
   "source": [
    "Ask the model to classify our test documents:"
   ]
  },
  {
   "cell_type": "code",
   "execution_count": 29,
   "metadata": {},
   "outputs": [
    {
     "data": {
      "text/plain": [
       "'Trump'"
      ]
     },
     "execution_count": 29,
     "metadata": {},
     "output_type": "execute_result"
    }
   ],
   "source": [
    "model.test_doc(trump_test)"
   ]
  },
  {
   "cell_type": "code",
   "execution_count": 31,
   "metadata": {
    "scrolled": true
   },
   "outputs": [
    {
     "data": {
      "text/plain": [
       "'Obama'"
      ]
     },
     "execution_count": 31,
     "metadata": {},
     "output_type": "execute_result"
    }
   ],
   "source": [
    "model.test_doc(obama_test)"
   ]
  },
  {
   "cell_type": "markdown",
   "metadata": {},
   "source": [
    "Interactive AI"
   ]
  },
  {
   "cell_type": "code",
   "execution_count": 50,
   "metadata": {
    "scrolled": true
   },
   "outputs": [
    {
     "name": "stdout",
     "output_type": "stream",
     "text": [
      "Please input a string: humbled\n"
     ]
    }
   ],
   "source": [
    "input_string = input(\"Please input a string: \")"
   ]
  },
  {
   "cell_type": "code",
   "execution_count": 51,
   "metadata": {},
   "outputs": [
    {
     "data": {
      "text/plain": [
       "'Obama'"
      ]
     },
     "execution_count": 51,
     "metadata": {},
     "output_type": "execute_result"
    }
   ],
   "source": [
    "input_doc = tokenize(input_string)\n",
    "model.test_doc(input_doc)"
   ]
  }
 ],
 "metadata": {
  "kernelspec": {
   "display_name": "Python 3",
   "language": "python",
   "name": "python3"
  },
  "language_info": {
   "codemirror_mode": {
    "name": "ipython",
    "version": 3
   },
   "file_extension": ".py",
   "mimetype": "text/x-python",
   "name": "python",
   "nbconvert_exporter": "python",
   "pygments_lexer": "ipython3",
   "version": "3.8.6"
  }
 },
 "nbformat": 4,
 "nbformat_minor": 4
}
